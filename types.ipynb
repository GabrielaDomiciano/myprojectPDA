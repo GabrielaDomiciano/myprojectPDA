{
 "cells": [
  {
   "cell_type": "code",
   "execution_count": 1,
   "metadata": {},
   "outputs": [],
   "source": [
    "#Types"
   ]
  },
  {
   "cell_type": "code",
   "execution_count": 2,
   "metadata": {},
   "outputs": [
    {
     "data": {
      "text/plain": [
       "'123'"
      ]
     },
     "execution_count": 2,
     "metadata": {},
     "output_type": "execute_result"
    }
   ],
   "source": [
    "'123'"
   ]
  },
  {
   "cell_type": "code",
   "execution_count": 3,
   "metadata": {},
   "outputs": [
    {
     "data": {
      "text/plain": [
       "123.0"
      ]
     },
     "execution_count": 3,
     "metadata": {},
     "output_type": "execute_result"
    }
   ],
   "source": [
    "123.0"
   ]
  },
  {
   "cell_type": "code",
   "execution_count": 4,
   "metadata": {},
   "outputs": [
    {
     "data": {
      "text/plain": [
       "int"
      ]
     },
     "execution_count": 4,
     "metadata": {},
     "output_type": "execute_result"
    }
   ],
   "source": [
    "type(123)"
   ]
  },
  {
   "cell_type": "code",
   "execution_count": 5,
   "metadata": {},
   "outputs": [
    {
     "data": {
      "text/plain": [
       "float"
      ]
     },
     "execution_count": 5,
     "metadata": {},
     "output_type": "execute_result"
    }
   ],
   "source": [
    "type(123.0)"
   ]
  },
  {
   "cell_type": "code",
   "execution_count": 6,
   "metadata": {},
   "outputs": [
    {
     "data": {
      "text/plain": [
       "4.0"
      ]
     },
     "execution_count": 6,
     "metadata": {},
     "output_type": "execute_result"
    }
   ],
   "source": [
    "8 / 2"
   ]
  },
  {
   "cell_type": "code",
   "execution_count": 7,
   "metadata": {},
   "outputs": [
    {
     "data": {
      "text/plain": [
       "int"
      ]
     },
     "execution_count": 7,
     "metadata": {},
     "output_type": "execute_result"
    }
   ],
   "source": [
    "type (8 // 2)"
   ]
  },
  {
   "cell_type": "code",
   "execution_count": 8,
   "metadata": {},
   "outputs": [
    {
     "data": {
      "text/plain": [
       "float"
      ]
     },
     "execution_count": 8,
     "metadata": {},
     "output_type": "execute_result"
    }
   ],
   "source": [
    "type (8 / 2)"
   ]
  },
  {
   "cell_type": "markdown",
   "metadata": {},
   "source": [
    "***"
   ]
  },
  {
   "cell_type": "markdown",
   "metadata": {},
   "source": [
    "# Numpy"
   ]
  },
  {
   "cell_type": "markdown",
   "metadata": {},
   "source": [
    "***"
   ]
  },
  {
   "cell_type": "code",
   "execution_count": 9,
   "metadata": {},
   "outputs": [],
   "source": [
    "import numpy as np"
   ]
  },
  {
   "cell_type": "code",
   "execution_count": 10,
   "metadata": {},
   "outputs": [],
   "source": [
    "L = np.array([[1, 2, 3], [4, 5, 6,], [7, 8, 9]])"
   ]
  },
  {
   "cell_type": "code",
   "execution_count": 11,
   "metadata": {},
   "outputs": [
    {
     "name": "stdout",
     "output_type": "stream",
     "text": [
      "[[1 2 3]\n",
      " [4 5 6]\n",
      " [7 8 9]]\n"
     ]
    }
   ],
   "source": [
    "print (L)"
   ]
  },
  {
   "cell_type": "code",
   "execution_count": 12,
   "metadata": {},
   "outputs": [
    {
     "data": {
      "text/plain": [
       "dtype('int64')"
      ]
     },
     "execution_count": 12,
     "metadata": {},
     "output_type": "execute_result"
    }
   ],
   "source": [
    "L.dtype"
   ]
  },
  {
   "cell_type": "code",
   "execution_count": 13,
   "metadata": {},
   "outputs": [
    {
     "data": {
      "text/plain": [
       "array([[1, 2, 3],\n",
       "       [4, 5, 6],\n",
       "       [7, 8, 9]])"
      ]
     },
     "execution_count": 13,
     "metadata": {},
     "output_type": "execute_result"
    }
   ],
   "source": [
    "np.arange(9) .reshape(3, 3) + 1"
   ]
  },
  {
   "cell_type": "code",
   "execution_count": 14,
   "metadata": {},
   "outputs": [
    {
     "data": {
      "text/plain": [
       "2"
      ]
     },
     "execution_count": 14,
     "metadata": {},
     "output_type": "execute_result"
    }
   ],
   "source": [
    "np.random.randint(1,7)   #gerara n int n inclui last"
   ]
  },
  {
   "cell_type": "code",
   "execution_count": 15,
   "metadata": {},
   "outputs": [
    {
     "data": {
      "text/plain": [
       "array([3, 4, 3, 4, 5, 5, 1, 2, 1, 4, 6, 3, 6, 3, 4, 1, 3, 5, 2, 1, 3, 2,\n",
       "       5, 5, 3, 3, 5, 5, 5, 2, 5, 1, 3, 2, 3, 4, 5, 5, 4, 6, 5, 3, 1, 6,\n",
       "       5, 3, 4, 4, 3, 3, 5, 3, 4, 2, 6, 6, 2, 2, 3, 2, 4, 4, 6, 4, 2, 1,\n",
       "       3, 2, 3, 4, 2, 3, 6, 1, 1, 1, 5, 1, 2, 3, 5, 3, 5, 2, 5, 4, 1, 2,\n",
       "       3, 5, 2, 5, 5, 5, 2, 1, 5, 2, 1, 4, 6, 2, 6, 4, 6, 6, 4, 5, 2, 6,\n",
       "       4, 5, 4, 1, 1, 5, 3, 2, 5, 3, 4, 3, 4, 5, 3, 2, 2, 3, 4, 1, 6, 5,\n",
       "       4, 6, 6, 5, 3, 1, 6, 3, 6, 1, 6, 4, 5, 1, 6, 6, 6, 2, 2, 2, 4, 6,\n",
       "       4, 1, 5, 5, 5, 1, 1, 1, 6, 2, 1, 6, 2, 3, 3, 1, 6, 3, 3, 1, 5, 2,\n",
       "       5, 2, 6, 3, 5, 4, 5, 6, 2, 2, 3, 4, 6, 4, 3, 1, 5, 2, 1, 2, 1, 6,\n",
       "       3, 4, 6, 5, 6, 1, 5, 3, 1, 2, 5, 5, 5, 4, 6, 2, 5, 2, 6, 3, 5, 3,\n",
       "       5, 3, 3, 4, 2, 3, 6, 5, 4, 1, 3, 2, 6, 2, 1, 5, 5, 1, 6, 5, 6, 6,\n",
       "       1, 5, 3, 6, 4, 5, 3, 2, 4, 6, 3, 2, 6, 4, 2, 4, 1, 6, 4, 1, 1, 1,\n",
       "       1, 3, 3, 1, 5, 6, 4, 5, 5, 6, 3, 3, 3, 6, 2, 3, 3, 3, 3, 5, 4, 2,\n",
       "       5, 6, 2, 1, 6, 5, 3, 5, 1, 4, 3, 6, 4, 2, 1, 1, 2, 5, 6, 2, 3, 2,\n",
       "       3, 5, 3, 4, 2, 4, 2, 3, 4, 5, 2, 6, 2, 6, 4, 4, 5, 1, 1, 3, 6, 1,\n",
       "       5, 1, 5, 5, 2, 4, 4, 5, 2, 6, 6, 3, 2, 5, 5, 1, 5, 3, 5, 6, 5, 1,\n",
       "       2, 3, 4, 5, 3, 3, 6, 4, 1, 4, 1, 3, 4, 2, 2, 3, 3, 4, 3, 1, 6, 1,\n",
       "       5, 3, 4, 1, 4, 5, 3, 2, 6, 3, 5, 5, 2, 2, 2, 3, 1, 1, 6, 3, 5, 6,\n",
       "       2, 1, 3, 3, 3, 6, 6, 2, 2, 2, 3, 1, 4, 1, 3, 4, 6, 3, 3, 5, 6, 6,\n",
       "       3, 3, 3, 1, 3, 5, 3, 4, 5, 4, 1, 3, 3, 2, 5, 2, 2, 3, 5, 2, 1, 4,\n",
       "       5, 4, 6, 1, 4, 6, 5, 3, 1, 1, 3, 6, 5, 1, 4, 3, 3, 5, 2, 5, 1, 1,\n",
       "       4, 1, 5, 6, 3, 4, 1, 2, 4, 1, 5, 3, 3, 3, 6, 4, 2, 6, 6, 6, 2, 2,\n",
       "       4, 3, 5, 3, 1, 6, 6, 2, 6, 5, 1, 3, 1, 6, 5, 5, 4, 5, 2, 6, 4, 6,\n",
       "       2, 1, 3, 5, 1, 4, 2, 4, 2, 5, 3, 5, 1, 5, 5, 2, 1, 6, 4, 3, 3, 5,\n",
       "       4, 3, 6, 1, 4, 5, 2, 5, 2, 1, 2, 5, 1, 2, 2, 6, 2, 4, 4, 3, 4, 3,\n",
       "       6, 4, 6, 6, 1, 6, 5, 3, 4, 6, 6, 1, 1, 4, 4, 6, 3, 4, 3, 4, 4, 4,\n",
       "       2, 3, 3, 4, 2, 4, 3, 3, 6, 5, 5, 1, 5, 5, 5, 1, 4, 3, 6, 1, 3, 5,\n",
       "       5, 3, 6, 6, 2, 3, 1, 4, 3, 5, 1, 6, 3, 6, 6, 2, 6, 4, 1, 4, 6, 1,\n",
       "       1, 5, 4, 2, 2, 4, 4, 1, 6, 3, 4, 5, 3, 3, 2, 5, 5, 1, 4, 4, 2, 6,\n",
       "       6, 3, 3, 5, 4, 1, 2, 1, 4, 6, 3, 3, 4, 6, 4, 1, 5, 4, 3, 1, 2, 3,\n",
       "       6, 6, 3, 4, 1, 2, 1, 1, 6, 2, 3, 5, 4, 6, 5, 4, 3, 5, 5, 5, 5, 4,\n",
       "       6, 5, 2, 2, 4, 6, 6, 4, 3, 3, 3, 6, 6, 2, 5, 2, 5, 6, 5, 5, 3, 4,\n",
       "       3, 6, 1, 6, 6, 1, 2, 3, 4, 3, 5, 4, 4, 2, 4, 2, 6, 5, 3, 1, 2, 6,\n",
       "       6, 2, 2, 5, 5, 2, 1, 6, 6, 4, 5, 4, 1, 2, 1, 2, 6, 6, 4, 6, 4, 2,\n",
       "       6, 1, 4, 2, 6, 4, 3, 1, 3, 4, 5, 2, 2, 5, 3, 2, 1, 5, 4, 4, 1, 4,\n",
       "       4, 1, 6, 3, 5, 3, 4, 3, 6, 6, 4, 3, 4, 2, 4, 3, 2, 4, 2, 2, 6, 6,\n",
       "       3, 5, 2, 3, 2, 6, 1, 5, 3, 4, 5, 6, 1, 4, 6, 1, 6, 5, 5, 2, 6, 4,\n",
       "       3, 1, 5, 2, 3, 2, 1, 6, 6, 6, 6, 4, 3, 6, 2, 4, 4, 2, 1, 3, 1, 6,\n",
       "       2, 2, 3, 1, 3, 6, 4, 3, 3, 4, 6, 4, 3, 4, 1, 2, 1, 1, 1, 3, 6, 3,\n",
       "       5, 2, 5, 5, 3, 4, 2, 4, 1, 1, 3, 4, 5, 1, 1, 1, 1, 1, 5, 2, 4, 2,\n",
       "       4, 3, 4, 3, 6, 3, 2, 2, 1, 6, 1, 4, 5, 6, 5, 5, 4, 2, 4, 6, 6, 5,\n",
       "       1, 1, 6, 4, 4, 2, 4, 4, 1, 5, 3, 5, 5, 4, 4, 6, 4, 6, 6, 4, 3, 1,\n",
       "       6, 4, 6, 5, 6, 2, 6, 4, 3, 1, 3, 1, 4, 6, 4, 4, 1, 4, 1, 6, 1, 4,\n",
       "       3, 6, 3, 3, 3, 3, 6, 6, 5, 1, 3, 4, 6, 5, 4, 4, 1, 4, 2, 6, 4, 2,\n",
       "       1, 2, 4, 4, 3, 3, 5, 6, 6, 4, 1, 6, 3, 2, 6, 6, 4, 2, 4, 2, 3, 6,\n",
       "       6, 4, 2, 2, 6, 6, 3, 5, 2, 3])"
      ]
     },
     "execution_count": 15,
     "metadata": {},
     "output_type": "execute_result"
    }
   ],
   "source": [
    "np.random.randint(1,7, 1000)"
   ]
  },
  {
   "cell_type": "code",
   "execution_count": 16,
   "metadata": {},
   "outputs": [],
   "source": [
    "#rool a die\n",
    "rolls = np.random.randint(1,7, 100)"
   ]
  },
  {
   "cell_type": "code",
   "execution_count": 17,
   "metadata": {},
   "outputs": [
    {
     "data": {
      "text/plain": [
       "3.54"
      ]
     },
     "execution_count": 17,
     "metadata": {},
     "output_type": "execute_result"
    }
   ],
   "source": [
    "# Average roll.\n",
    "np.mean(rolls)"
   ]
  },
  {
   "cell_type": "code",
   "execution_count": 18,
   "metadata": {},
   "outputs": [
    {
     "data": {
      "text/plain": [
       "1.6150541786577937"
      ]
     },
     "execution_count": 18,
     "metadata": {},
     "output_type": "execute_result"
    }
   ],
   "source": [
    "# Spread\n",
    "np.std(rolls)"
   ]
  },
  {
   "cell_type": "code",
   "execution_count": 19,
   "metadata": {},
   "outputs": [],
   "source": [
    "#Likert scale\n",
    "likert = np.random.randint(1,7, 100)"
   ]
  },
  {
   "cell_type": "code",
   "execution_count": 20,
   "metadata": {},
   "outputs": [
    {
     "data": {
      "text/plain": [
       "3.44"
      ]
     },
     "execution_count": 20,
     "metadata": {},
     "output_type": "execute_result"
    }
   ],
   "source": [
    "np.mean(likert)"
   ]
  },
  {
   "cell_type": "code",
   "execution_count": 21,
   "metadata": {},
   "outputs": [
    {
     "data": {
      "text/plain": [
       "3.0"
      ]
     },
     "execution_count": 21,
     "metadata": {},
     "output_type": "execute_result"
    }
   ],
   "source": [
    "# Median\n",
    "np.median(likert)"
   ]
  },
  {
   "cell_type": "markdown",
   "metadata": {},
   "source": [
    "## Counts\n",
    "***"
   ]
  },
  {
   "cell_type": "code",
   "execution_count": 22,
   "metadata": {},
   "outputs": [
    {
     "data": {
      "text/plain": [
       "array([3, 2, 6, 6, 3, 5, 3, 6, 6, 1])"
      ]
     },
     "execution_count": 22,
     "metadata": {},
     "output_type": "execute_result"
    }
   ],
   "source": [
    "# Peak at the first ten values\n",
    "rolls[:10]"
   ]
  },
  {
   "cell_type": "code",
   "execution_count": 23,
   "metadata": {},
   "outputs": [
    {
     "data": {
      "text/plain": [
       "array([1, 2, 3, 4, 5, 6])"
      ]
     },
     "execution_count": 23,
     "metadata": {},
     "output_type": "execute_result"
    }
   ],
   "source": [
    "# Unique values in the array\n",
    "np.unique(rolls)"
   ]
  },
  {
   "cell_type": "code",
   "execution_count": 24,
   "metadata": {},
   "outputs": [
    {
     "data": {
      "text/plain": [
       "(array([1, 2, 3, 4, 5, 6]), array([15, 11, 26, 16, 17, 15]))"
      ]
     },
     "execution_count": 24,
     "metadata": {},
     "output_type": "execute_result"
    }
   ],
   "source": [
    "# Counts.\n",
    "np.unique(rolls, return_counts=True)"
   ]
  },
  {
   "cell_type": "code",
   "execution_count": 25,
   "metadata": {},
   "outputs": [
    {
     "data": {
      "text/plain": [
       "(array([1, 2, 3, 4, 5, 6]), array([15, 11, 26, 16, 17, 15]))"
      ]
     },
     "execution_count": 25,
     "metadata": {},
     "output_type": "execute_result"
    }
   ],
   "source": [
    "# Counts.\n",
    "un_rolls, counts = np.unique(rolls, return_counts=True)\n",
    "\n",
    "un_rolls, counts"
   ]
  },
  {
   "cell_type": "code",
   "execution_count": 26,
   "metadata": {},
   "outputs": [
    {
     "data": {
      "text/plain": [
       "<BarContainer object of 6 artists>"
      ]
     },
     "execution_count": 26,
     "metadata": {},
     "output_type": "execute_result"
    },
    {
     "data": {
      "image/png": "[encoded data removed]",
      "text/plain": [
       "<Figure size 640x480 with 1 Axes>"
      ]
     },
     "metadata": {},
     "output_type": "display_data"
    }
   ],
   "source": [
    "# Bar chart.\n",
    "import matplotlib.pyplot as plt\n",
    "\n",
    "plt.bar(un_rolls, counts)"
   ]
  },
  {
   "cell_type": "code",
   "execution_count": 27,
   "metadata": {},
   "outputs": [
    {
     "data": {
      "text/plain": [
       "5.357142857142857"
      ]
     },
     "execution_count": 27,
     "metadata": {},
     "output_type": "execute_result"
    }
   ],
   "source": [
    "np.mean([1,2,2,2,3,4,5,6,7,8,8,8,9,10])"
   ]
  },
  {
   "cell_type": "code",
   "execution_count": 28,
   "metadata": {},
   "outputs": [
    {
     "data": {
      "text/plain": [
       "5.5"
      ]
     },
     "execution_count": 28,
     "metadata": {},
     "output_type": "execute_result"
    }
   ],
   "source": [
    "np.mean([1,1,1,1,1,1,1,10,10,10,10,10,10,10])"
   ]
  },
  {
   "cell_type": "markdown",
   "metadata": {},
   "source": [
    "***"
   ]
  },
  {
   "cell_type": "markdown",
   "metadata": {},
   "source": [
    "# Float"
   ]
  },
  {
   "cell_type": "markdown",
   "metadata": {},
   "source": [
    "## Exponential_Notation"
   ]
  },
  {
   "cell_type": "code",
   "execution_count": null,
   "metadata": {},
   "outputs": [],
   "source": [
    "# Big integers\n",
    "i = -2**1000"
   ]
  },
  {
   "cell_type": "code",
   "execution_count": null,
   "metadata": {},
   "outputs": [
    {
     "data": {
      "text/plain": [
       "-10715086071862673209484250490600018105614048117055336074437503883703510511249361224931983788156958581275946729175531468251871452856923140435984577574698574803934567774824230985421074605062371141877954182153046474983581941267398767559165543946077062914571196477686542167660429831652624386837205668069376"
      ]
     },
     "execution_count": 30,
     "metadata": {},
     "output_type": "execute_result"
    }
   ],
   "source": [
    "# Interger can be very big in Python\n",
    "i"
   ]
  },
  {
   "cell_type": "code",
   "execution_count": null,
   "metadata": {},
   "outputs": [
    {
     "data": {
      "text/plain": [
       "1.23"
      ]
     },
     "execution_count": 31,
     "metadata": {},
     "output_type": "execute_result"
    }
   ],
   "source": [
    "# An exemple of a floating pint number\n",
    "1.23"
   ]
  },
  {
   "cell_type": "code",
   "execution_count": null,
   "metadata": {},
   "outputs": [
    {
     "data": {
      "text/plain": [
       "float"
      ]
     },
     "execution_count": 32,
     "metadata": {},
     "output_type": "execute_result"
    }
   ],
   "source": [
    "type(1.23)"
   ]
  },
  {
   "cell_type": "code",
   "execution_count": null,
   "metadata": {},
   "outputs": [
    {
     "data": {
      "text/plain": [
       "int"
      ]
     },
     "execution_count": 33,
     "metadata": {},
     "output_type": "execute_result"
    }
   ],
   "source": [
    "# No decimal point an interger\n",
    "type(123)"
   ]
  },
  {
   "cell_type": "code",
   "execution_count": null,
   "metadata": {},
   "outputs": [
    {
     "data": {
      "text/plain": [
       "1.23"
      ]
     },
     "execution_count": 34,
     "metadata": {},
     "output_type": "execute_result"
    }
   ],
   "source": [
    "# Exponential notation: 123 x 10^{-2}.\n",
    "123e-2"
   ]
  },
  {
   "cell_type": "code",
   "execution_count": null,
   "metadata": {},
   "outputs": [
    {
     "data": {
      "text/plain": [
       "(1230.0, float)"
      ]
     },
     "execution_count": 35,
     "metadata": {},
     "output_type": "execute_result"
    }
   ],
   "source": [
    "# This still a float\n",
    "123e1, type(123e1)"
   ]
  },
  {
   "cell_type": "code",
   "execution_count": null,
   "metadata": {},
   "outputs": [
    {
     "data": {
      "text/plain": [
       "5.6088"
      ]
     },
     "execution_count": 36,
     "metadata": {},
     "output_type": "execute_result"
    }
   ],
   "source": [
    "#The usual operators work with floats\n",
    "1.23 * 4.56"
   ]
  },
  {
   "cell_type": "code",
   "execution_count": null,
   "metadata": {},
   "outputs": [
    {
     "data": {
      "text/plain": [
       "1e-100"
      ]
     },
     "execution_count": 37,
     "metadata": {},
     "output_type": "execute_result"
    }
   ],
   "source": [
    "# you can gave small floats\n",
    "1e-100"
   ]
  },
  {
   "cell_type": "code",
   "execution_count": null,
   "metadata": {},
   "outputs": [
    {
     "data": {
      "text/plain": [
       "1e+100"
      ]
     },
     "execution_count": 38,
     "metadata": {},
     "output_type": "execute_result"
    }
   ],
   "source": [
    "#you can have big nmbers\n",
    "1e100"
   ]
  },
  {
   "cell_type": "code",
   "execution_count": null,
   "metadata": {},
   "outputs": [
    {
     "data": {
      "text/plain": [
       "-1.23"
      ]
     },
     "execution_count": 39,
     "metadata": {},
     "output_type": "execute_result"
    }
   ],
   "source": [
    "# Nefative floats.\n",
    "-1.23"
   ]
  },
  {
   "cell_type": "code",
   "execution_count": null,
   "metadata": {},
   "outputs": [
    {
     "data": {
      "text/plain": [
       "1.23"
      ]
     },
     "execution_count": 40,
     "metadata": {},
     "output_type": "execute_result"
    }
   ],
   "source": [
    "# the number 1.23\n",
    "1.23"
   ]
  },
  {
   "cell_type": "code",
   "execution_count": null,
   "metadata": {},
   "outputs": [
    {
     "data": {
      "text/plain": [
       "1.23"
      ]
     },
     "execution_count": 41,
     "metadata": {},
     "output_type": "execute_result"
    }
   ],
   "source": [
    "# the number 1.23\n",
    "123e-2"
   ]
  },
  {
   "cell_type": "code",
   "execution_count": null,
   "metadata": {},
   "outputs": [
    {
     "data": {
      "text/plain": [
       "1.23"
      ]
     },
     "execution_count": 42,
     "metadata": {},
     "output_type": "execute_result"
    }
   ],
   "source": [
    "# the number 1.23\n",
    "12.3e-1"
   ]
  },
  {
   "cell_type": "code",
   "execution_count": null,
   "metadata": {},
   "outputs": [
    {
     "data": {
      "text/plain": [
       "1.23"
      ]
     },
     "execution_count": 43,
     "metadata": {},
     "output_type": "execute_result"
    }
   ],
   "source": [
    "# the number 1.23\n",
    "0.123e1"
   ]
  },
  {
   "cell_type": "code",
   "execution_count": null,
   "metadata": {},
   "outputs": [
    {
     "data": {
      "text/plain": [
       "4567.0"
      ]
     },
     "execution_count": 44,
     "metadata": {},
     "output_type": "execute_result"
    }
   ],
   "source": [
    "# the number 4567.\n",
    "4567."
   ]
  },
  {
   "cell_type": "code",
   "execution_count": null,
   "metadata": {},
   "outputs": [
    {
     "data": {
      "text/plain": [
       "4567.0"
      ]
     },
     "execution_count": 45,
     "metadata": {},
     "output_type": "execute_result"
    }
   ],
   "source": [
    "# The number 4567.0 - the first number is betweem 1(inclusive) and 10(exclusive).\n",
    "4.567e3"
   ]
  },
  {
   "cell_type": "code",
   "execution_count": null,
   "metadata": {},
   "outputs": [
    {
     "data": {
      "text/plain": [
       "4567.0"
      ]
     },
     "execution_count": 46,
     "metadata": {},
     "output_type": "execute_result"
    }
   ],
   "source": [
    "#The number 123,456,789.0\n",
    "4.567e3"
   ]
  },
  {
   "cell_type": "code",
   "execution_count": null,
   "metadata": {},
   "outputs": [
    {
     "data": {
      "text/plain": [
       "123456789.0"
      ]
     },
     "execution_count": 47,
     "metadata": {},
     "output_type": "execute_result"
    }
   ],
   "source": [
    "#the number 123,456,789.0\n",
    "1.23456789e8"
   ]
  },
  {
   "cell_type": "code",
   "execution_count": null,
   "metadata": {},
   "outputs": [
    {
     "data": {
      "text/plain": [
       "12345678.0"
      ]
     },
     "execution_count": 51,
     "metadata": {},
     "output_type": "execute_result"
    }
   ],
   "source": [
    "# NUmbers in 8 decimal places for fractional part and four for the exponent\n",
    "12345678e0000"
   ]
  }
 ],
 "metadata": {
  "kernelspec": {
   "display_name": "base",
   "language": "python",
   "name": "python3"
  },
  "language_info": {
   "codemirror_mode": {
    "name": "ipython",
    "version": 3
   },
   "file_extension": ".py",
   "mimetype": "text/x-python",
   "name": "python",
   "nbconvert_exporter": "python",
   "pygments_lexer": "ipython3",
   "version": "3.11.5"
  }
 },
 "nbformat": 4,
 "nbformat_minor": 2
}
