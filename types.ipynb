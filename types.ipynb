{
 "cells": [
  {
   "cell_type": "code",
   "execution_count": 402,
   "metadata": {},
   "outputs": [],
   "source": [
    "#Types"
   ]
  },
  {
   "cell_type": "code",
   "execution_count": 403,
   "metadata": {},
   "outputs": [
    {
     "data": {
      "text/plain": [
       "'123'"
      ]
     },
     "execution_count": 403,
     "metadata": {},
     "output_type": "execute_result"
    }
   ],
   "source": [
    "'123'"
   ]
  },
  {
   "cell_type": "code",
   "execution_count": 404,
   "metadata": {},
   "outputs": [
    {
     "data": {
      "text/plain": [
       "123.0"
      ]
     },
     "execution_count": 404,
     "metadata": {},
     "output_type": "execute_result"
    }
   ],
   "source": [
    "123.0"
   ]
  },
  {
   "cell_type": "code",
   "execution_count": 405,
   "metadata": {},
   "outputs": [
    {
     "data": {
      "text/plain": [
       "int"
      ]
     },
     "execution_count": 405,
     "metadata": {},
     "output_type": "execute_result"
    }
   ],
   "source": [
    "type(123)"
   ]
  },
  {
   "cell_type": "code",
   "execution_count": 406,
   "metadata": {},
   "outputs": [
    {
     "data": {
      "text/plain": [
       "float"
      ]
     },
     "execution_count": 406,
     "metadata": {},
     "output_type": "execute_result"
    }
   ],
   "source": [
    "type(123.0)"
   ]
  },
  {
   "cell_type": "code",
   "execution_count": 407,
   "metadata": {},
   "outputs": [
    {
     "data": {
      "text/plain": [
       "4.0"
      ]
     },
     "execution_count": 407,
     "metadata": {},
     "output_type": "execute_result"
    }
   ],
   "source": [
    "8 / 2"
   ]
  },
  {
   "cell_type": "code",
   "execution_count": 408,
   "metadata": {},
   "outputs": [
    {
     "data": {
      "text/plain": [
       "int"
      ]
     },
     "execution_count": 408,
     "metadata": {},
     "output_type": "execute_result"
    }
   ],
   "source": [
    "type (8 // 2)"
   ]
  },
  {
   "cell_type": "code",
   "execution_count": 409,
   "metadata": {},
   "outputs": [
    {
     "data": {
      "text/plain": [
       "float"
      ]
     },
     "execution_count": 409,
     "metadata": {},
     "output_type": "execute_result"
    }
   ],
   "source": [
    "type (8 / 2)"
   ]
  },
  {
   "cell_type": "markdown",
   "metadata": {},
   "source": [
    "***"
   ]
  },
  {
   "cell_type": "markdown",
   "metadata": {},
   "source": [
    "# Numpy"
   ]
  },
  {
   "cell_type": "markdown",
   "metadata": {},
   "source": [
    "***"
   ]
  },
  {
   "cell_type": "code",
   "execution_count": 410,
   "metadata": {},
   "outputs": [],
   "source": [
    "import numpy as np"
   ]
  },
  {
   "cell_type": "code",
   "execution_count": 411,
   "metadata": {},
   "outputs": [],
   "source": [
    "L = np.array([[1, 2, 3], [4, 5, 6,], [7, 8, 9]])"
   ]
  },
  {
   "cell_type": "code",
   "execution_count": 412,
   "metadata": {},
   "outputs": [
    {
     "name": "stdout",
     "output_type": "stream",
     "text": [
      "[[1 2 3]\n",
      " [4 5 6]\n",
      " [7 8 9]]\n"
     ]
    }
   ],
   "source": [
    "print (L)"
   ]
  },
  {
   "cell_type": "code",
   "execution_count": 413,
   "metadata": {},
   "outputs": [
    {
     "data": {
      "text/plain": [
       "dtype('int64')"
      ]
     },
     "execution_count": 413,
     "metadata": {},
     "output_type": "execute_result"
    }
   ],
   "source": [
    "L.dtype"
   ]
  },
  {
   "cell_type": "code",
   "execution_count": 414,
   "metadata": {},
   "outputs": [
    {
     "data": {
      "text/plain": [
       "array([[1, 2, 3],\n",
       "       [4, 5, 6],\n",
       "       [7, 8, 9]])"
      ]
     },
     "execution_count": 414,
     "metadata": {},
     "output_type": "execute_result"
    }
   ],
   "source": [
    "np.arange(9) .reshape(3, 3) + 1"
   ]
  },
  {
   "cell_type": "code",
   "execution_count": 415,
   "metadata": {},
   "outputs": [
    {
     "data": {
      "text/plain": [
       "2"
      ]
     },
     "execution_count": 415,
     "metadata": {},
     "output_type": "execute_result"
    }
   ],
   "source": [
    "np.random.randint(1,7)   #gerara n int n inclui last"
   ]
  },
  {
   "cell_type": "code",
   "execution_count": 428,
   "metadata": {},
   "outputs": [
    {
     "data": {
      "text/plain": [
       "array([5, 6, 1, 2, 2, 6, 3, 4, 5, 3, 2, 3, 1, 5, 2, 2, 3, 1, 6, 5, 5, 4,\n",
       "       2, 3, 5, 2, 2, 4, 3, 1, 4, 1, 5, 2, 6, 5, 3, 6, 5, 1, 6, 1, 1, 4,\n",
       "       1, 1, 5, 2, 3, 3, 3, 5, 6, 1, 2, 4, 2, 5, 3, 1, 5, 5, 6, 6, 2, 5,\n",
       "       1, 3, 2, 6, 6, 4, 2, 3, 1, 1, 6, 2, 4, 5, 2, 4, 5, 6, 6, 2, 2, 2,\n",
       "       6, 5, 4, 6, 5, 6, 3, 6, 6, 4, 4, 2, 1, 2, 5, 6, 2, 4, 1, 6, 5, 1,\n",
       "       2, 1, 6, 1, 5, 6, 1, 2, 4, 2, 5, 6, 2, 5, 3, 6, 2, 5, 4, 2, 3, 4,\n",
       "       3, 5, 1, 1, 5, 4, 6, 4, 5, 6, 3, 2, 6, 2, 6, 1, 5, 5, 2, 4, 6, 6,\n",
       "       2, 4, 3, 4, 5, 6, 4, 5, 4, 5, 2, 3, 3, 2, 4, 5, 6, 4, 2, 5, 1, 1,\n",
       "       6, 3, 2, 4, 2, 5, 1, 4, 5, 4, 2, 3, 1, 3, 1, 2, 3, 1, 2, 3, 4, 5,\n",
       "       4, 3, 2, 4, 3, 3, 4, 5, 6, 2, 1, 2, 1, 3, 5, 6, 3, 5, 4, 4, 2, 4,\n",
       "       2, 1, 3, 5, 4, 5, 4, 5, 1, 5, 4, 2, 4, 5, 2, 3, 1, 4, 2, 2, 6, 4,\n",
       "       3, 4, 6, 4, 3, 3, 3, 1, 6, 4, 5, 4, 5, 2, 1, 6, 3, 5, 3, 1, 4, 6,\n",
       "       1, 4, 3, 6, 6, 3, 3, 6, 2, 3, 4, 5, 2, 2, 1, 2, 6, 4, 3, 2, 4, 2,\n",
       "       1, 4, 5, 3, 4, 1, 3, 6, 2, 2, 3, 3, 4, 6, 6, 2, 1, 1, 1, 4, 2, 3,\n",
       "       2, 4, 4, 1, 1, 1, 1, 4, 3, 3, 2, 3, 1, 1, 5, 4, 3, 1, 1, 2, 2, 2,\n",
       "       6, 3, 2, 5, 5, 1, 1, 1, 2, 3, 4, 3, 1, 3, 6, 5, 1, 1, 2, 5, 2, 2,\n",
       "       2, 6, 6, 3, 2, 1, 2, 3, 6, 3, 4, 2, 6, 6, 6, 2, 3, 4, 3, 4, 3, 4,\n",
       "       4, 4, 2, 6, 2, 4, 3, 6, 2, 2, 4, 4, 5, 1, 2, 3, 4, 2, 2, 5, 2, 5,\n",
       "       5, 5, 6, 4, 1, 2, 2, 4, 1, 3, 5, 5, 6, 6, 3, 2, 6, 5, 5, 6, 3, 5,\n",
       "       1, 3, 1, 6, 5, 1, 1, 3, 3, 2, 5, 2, 6, 2, 6, 1, 1, 6, 5, 3, 5, 6,\n",
       "       1, 4, 3, 2, 2, 1, 1, 5, 1, 3, 6, 2, 1, 5, 2, 1, 2, 3, 5, 2, 6, 6,\n",
       "       5, 1, 4, 5, 1, 1, 5, 3, 4, 6, 4, 4, 5, 1, 1, 5, 2, 6, 3, 6, 4, 3,\n",
       "       6, 4, 3, 5, 1, 6, 2, 6, 4, 4, 6, 4, 2, 4, 6, 1, 1, 4, 6, 2, 2, 2,\n",
       "       2, 2, 4, 2, 4, 1, 2, 3, 5, 2, 1, 2, 4, 1, 1, 6, 3, 3, 1, 4, 3, 3,\n",
       "       2, 2, 4, 2, 1, 1, 1, 1, 6, 5, 1, 2, 3, 4, 5, 1, 4, 6, 2, 4, 1, 6,\n",
       "       4, 5, 1, 5, 5, 6, 4, 3, 6, 5, 1, 4, 1, 2, 1, 1, 5, 6, 6, 3, 2, 6,\n",
       "       5, 1, 6, 6, 4, 1, 1, 3, 1, 4, 4, 4, 1, 1, 4, 2, 5, 2, 2, 2, 6, 3,\n",
       "       3, 3, 5, 5, 2, 1, 4, 5, 4, 4, 3, 2, 1, 6, 4, 2, 2, 5, 1, 3, 3, 3,\n",
       "       3, 5, 1, 3, 4, 3, 5, 1, 3, 3, 6, 5, 2, 6, 4, 3, 1, 4, 3, 1, 4, 1,\n",
       "       3, 6, 1, 4, 1, 5, 5, 4, 6, 5, 1, 3, 5, 4, 1, 6, 6, 1, 4, 3, 2, 5,\n",
       "       4, 6, 2, 2, 5, 1, 3, 4, 4, 1, 5, 6, 4, 1, 4, 3, 2, 2, 4, 1, 5, 2,\n",
       "       6, 6, 1, 1, 3, 6, 2, 2, 4, 6, 5, 2, 4, 5, 1, 5, 5, 1, 5, 5, 6, 3,\n",
       "       3, 2, 4, 4, 4, 4, 3, 6, 1, 3, 6, 5, 2, 5, 1, 2, 4, 1, 5, 3, 4, 6,\n",
       "       1, 5, 6, 5, 6, 3, 1, 1, 2, 6, 6, 6, 4, 2, 3, 1, 1, 3, 2, 1, 4, 6,\n",
       "       1, 1, 2, 2, 2, 5, 6, 5, 6, 2, 1, 1, 6, 5, 3, 2, 6, 5, 5, 2, 3, 2,\n",
       "       1, 1, 2, 1, 3, 3, 2, 4, 2, 4, 6, 1, 2, 2, 4, 6, 3, 5, 4, 1, 4, 1,\n",
       "       6, 1, 1, 4, 6, 2, 4, 5, 1, 2, 4, 1, 5, 4, 2, 5, 6, 4, 5, 1, 1, 6,\n",
       "       5, 5, 2, 3, 6, 1, 1, 1, 6, 4, 6, 3, 1, 5, 5, 3, 1, 4, 2, 1, 6, 4,\n",
       "       1, 6, 5, 2, 6, 2, 3, 1, 5, 4, 4, 4, 5, 5, 2, 1, 4, 5, 3, 4, 2, 2,\n",
       "       6, 6, 6, 1, 6, 2, 5, 6, 4, 4, 2, 6, 4, 5, 2, 1, 5, 2, 2, 3, 6, 2,\n",
       "       5, 4, 4, 4, 2, 1, 6, 2, 2, 3, 3, 6, 6, 1, 3, 5, 6, 3, 1, 4, 1, 2,\n",
       "       1, 6, 2, 1, 4, 2, 6, 2, 6, 3, 5, 1, 4, 6, 4, 1, 2, 3, 3, 6, 1, 1,\n",
       "       2, 3, 6, 2, 2, 2, 6, 3, 5, 3, 6, 6, 1, 3, 1, 4, 4, 1, 2, 4, 2, 1,\n",
       "       4, 6, 2, 2, 6, 5, 3, 2, 5, 4, 2, 2, 4, 3, 5, 4, 5, 5, 6, 2, 1, 1,\n",
       "       4, 5, 4, 5, 6, 6, 1, 1, 5, 4, 4, 4, 3, 5, 3, 1, 1, 4, 6, 5, 3, 5,\n",
       "       6, 1, 4, 1, 2, 2, 5, 1, 3, 1])"
      ]
     },
     "execution_count": 428,
     "metadata": {},
     "output_type": "execute_result"
    }
   ],
   "source": [
    "np.random.randint(1,7, 1000)"
   ]
  },
  {
   "cell_type": "code",
   "execution_count": 429,
   "metadata": {},
   "outputs": [],
   "source": [
    "#rool a die\n",
    "rolls = np.random.randint(1,7, 100)"
   ]
  },
  {
   "cell_type": "code",
   "execution_count": 430,
   "metadata": {},
   "outputs": [
    {
     "data": {
      "text/plain": [
       "3.4"
      ]
     },
     "execution_count": 430,
     "metadata": {},
     "output_type": "execute_result"
    }
   ],
   "source": [
    "# Average roll.\n",
    "np.mean(rolls)"
   ]
  },
  {
   "cell_type": "code",
   "execution_count": 431,
   "metadata": {},
   "outputs": [
    {
     "data": {
      "text/plain": [
       "1.593737745050923"
      ]
     },
     "execution_count": 431,
     "metadata": {},
     "output_type": "execute_result"
    }
   ],
   "source": [
    "# Spread\n",
    "np.std(rolls)"
   ]
  },
  {
   "cell_type": "code",
   "execution_count": 432,
   "metadata": {},
   "outputs": [],
   "source": [
    "#Likert scale\n",
    "likert = np.random.randint(1,7, 100)"
   ]
  },
  {
   "cell_type": "code",
   "execution_count": 433,
   "metadata": {},
   "outputs": [
    {
     "data": {
      "text/plain": [
       "3.25"
      ]
     },
     "execution_count": 433,
     "metadata": {},
     "output_type": "execute_result"
    }
   ],
   "source": [
    "np.mean(likert)"
   ]
  },
  {
   "cell_type": "code",
   "execution_count": 434,
   "metadata": {},
   "outputs": [
    {
     "data": {
      "text/plain": [
       "3.0"
      ]
     },
     "execution_count": 434,
     "metadata": {},
     "output_type": "execute_result"
    }
   ],
   "source": [
    "# Median\n",
    "np.median(likert)"
   ]
  },
  {
   "cell_type": "markdown",
   "metadata": {},
   "source": [
    "## Counts\n",
    "***"
   ]
  },
  {
   "cell_type": "code",
   "execution_count": 435,
   "metadata": {},
   "outputs": [
    {
     "data": {
      "text/plain": [
       "array([4, 3, 5, 2, 4, 2, 1, 5, 3, 5])"
      ]
     },
     "execution_count": 435,
     "metadata": {},
     "output_type": "execute_result"
    }
   ],
   "source": [
    "# Peak at the first ten values\n",
    "rolls[:10]"
   ]
  },
  {
   "cell_type": "code",
   "execution_count": 436,
   "metadata": {},
   "outputs": [
    {
     "data": {
      "text/plain": [
       "array([1, 2, 3, 4, 5, 6])"
      ]
     },
     "execution_count": 436,
     "metadata": {},
     "output_type": "execute_result"
    }
   ],
   "source": [
    "# Unique values in the array\n",
    "np.unique(rolls)"
   ]
  },
  {
   "cell_type": "code",
   "execution_count": 437,
   "metadata": {},
   "outputs": [
    {
     "data": {
      "text/plain": [
       "(array([1, 2, 3, 4, 5, 6]), array([17, 17, 15, 18, 26,  7]))"
      ]
     },
     "execution_count": 437,
     "metadata": {},
     "output_type": "execute_result"
    }
   ],
   "source": [
    "# Counts.\n",
    "np.unique(rolls, return_counts=True)"
   ]
  },
  {
   "cell_type": "code",
   "execution_count": 438,
   "metadata": {},
   "outputs": [
    {
     "data": {
      "text/plain": [
       "(array([1, 2, 3, 4, 5, 6]), array([17, 17, 15, 18, 26,  7]))"
      ]
     },
     "execution_count": 438,
     "metadata": {},
     "output_type": "execute_result"
    }
   ],
   "source": [
    "# Counts.\n",
    "un_rolls, counts = np.unique(rolls, return_counts=True)\n",
    "\n",
    "un_rolls, counts"
   ]
  },
  {
   "cell_type": "code",
   "execution_count": 439,
   "metadata": {},
   "outputs": [
    {
     "data": {
      "text/plain": [
       "<BarContainer object of 6 artists>"
      ]
     },
     "execution_count": 439,
     "metadata": {},
     "output_type": "execute_result"
    },
    {
     "data": {
      "image/png": "[encoded data removed]",
      "text/plain": [
       "<Figure size 640x480 with 1 Axes>"
      ]
     },
     "metadata": {},
     "output_type": "display_data"
    }
   ],
   "source": [
    "# Bar chart.\n",
    "import matplotlib.pyplot as plt\n",
    "\n",
    "plt.bar(un_rolls, counts)"
   ]
  },
  {
   "cell_type": "code",
   "execution_count": 441,
   "metadata": {},
   "outputs": [
    {
     "data": {
      "text/plain": [
       "5.357142857142857"
      ]
     },
     "execution_count": 441,
     "metadata": {},
     "output_type": "execute_result"
    }
   ],
   "source": [
    "np.mean([1,2,2,2,3,4,5,6,7,8,8,8,9,10])"
   ]
  },
  {
   "cell_type": "code",
   "execution_count": 442,
   "metadata": {},
   "outputs": [
    {
     "data": {
      "text/plain": [
       "5.5"
      ]
     },
     "execution_count": 442,
     "metadata": {},
     "output_type": "execute_result"
    }
   ],
   "source": [
    "np.mean([1,1,1,1,1,1,1,10,10,10,10,10,10,10])"
   ]
  },
  {
   "cell_type": "markdown",
   "metadata": {},
   "source": [
    "***"
   ]
  },
  {
   "cell_type": "markdown",
   "metadata": {},
   "source": [
    "# Float"
   ]
  },
  {
   "cell_type": "code",
   "execution_count": null,
   "metadata": {},
   "outputs": [],
   "source": []
  }
 ],
 "metadata": {
  "kernelspec": {
   "display_name": "base",
   "language": "python",
   "name": "python3"
  },
  "language_info": {
   "codemirror_mode": {
    "name": "ipython",
    "version": 3
   },
   "file_extension": ".py",
   "mimetype": "text/x-python",
   "name": "python",
   "nbconvert_exporter": "python",
   "pygments_lexer": "ipython3",
   "version": "3.1.0"
  }
 },
 "nbformat": 4,
 "nbformat_minor": 2
}
